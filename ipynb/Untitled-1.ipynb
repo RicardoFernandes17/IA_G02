{
 "cells": [
  {
   "cell_type": "markdown",
   "metadata": {},
   "source": [
    "# TP01 Grupo02 - Inteligencia Artificial\n",
    "Este documento "
   ]
  },
  {
   "cell_type": "markdown",
   "metadata": {},
   "source": [
    "----\n",
    "## Introdução\n",
    "\n",
    "### Contexto e propósito do problema\n",
    "### Membros do grupo\n",
    "O grupo do trabalho foi constituido pelos seguintes:\n",
    "* Diogo Miranda - nº 10607\n",
    "* Pedro Meneses - nº 17551\n",
    "* Ricardo Fernandes - nº 18476\n",
    "\n",
    "----"
   ]
  },
  {
   "cell_type": "markdown",
   "metadata": {},
   "source": [
    "----\n",
    "## Goal Formulation\n",
    "### Definição de objetivos\n",
    "O objetivo do agente é realizar o agendamento de camas para pacientes durante a sua estadia no hospital. Especificamente, o agente deve atribuir camas de acordo com as necessidades dos pacientes, considerando restrições como a disponibilidade de camas, preferências de género, requisitos de equipamento e especialidade.\n",
    "\n",
    "### Possiveis limitações\n",
    "Para atingir o objetivo, é crucial reconhecer algumas potenciais limitações do sistema de agendamento. Algumas dessas limitações podem incluir restrições de recursos, capacidade máxima do hospital, restrições temporais e quaisquer outras considerações específicas do ambiente hospitalar.\n",
    "\n",
    "### Ações a serem tomadas\n",
    "Para alcançar o objetivo, o agente realizará as seguintes ações:\n",
    "1. Recolha de informações\n",
    "Obtenção de informações sobre a disponibilidade de camas e requisitos médicos dos pacientes.\n",
    "2.\tAnálise de Preferências:\n",
    "Avaliação das preferências de género dos pacientes e atribuição de camas de acordo.\n",
    "2. Atribuição por especialidade:\n",
    "Consideração da especialidade para optimizar a alocação de pacientes de acordo com suas necessidades médicas.\n",
    "3.\tResolução de Conflitos:\n",
    "Desenvolvimento de um mecanismo para resolver conflitos, como a falta de camas ou restrições específicas do paciente.\n",
    "4. Adaptação a Mudanças:\n",
    "Implementação de um sistema dinâmico capaz de lidar com mudanças na disponibilidade de camas e outras variáveis do ambiente hospitalar.\n",
    "\n",
    "\n",
    "----"
   ]
  },
  {
   "cell_type": "markdown",
   "metadata": {},
   "source": [
    "----\n",
    "## Planeamento e design do agente apropriado\n",
    "### Descrição PEAS do agente\n",
    "A eficiência na atribuição de camas, minimizando conflitos e atendendo às necessidades específicas dos pacientes.\n",
    "\n",
    "- **Ambiente:**\n",
    "  - O ambiente consiste no hospital, com salas, camas, pacientes e as suas respectivas necessidades médicas.\n",
    "- **Atuadores:**\n",
    "  - Os atuadores incluem a capacidade de atribuir camas, ajustar alocações em resposta a mudanças e resolver conflitos.\n",
    "- **Sensores:**\n",
    "  - Os sensores recolhem informações sobre a disponibilidade de camas, requisitos médicos dos pacientes, preferências de género, e outras informações relevantes.\n",
    "\n",
    "### Caracteristicas do ambiente\n",
    "- **Disponibilidade de camas:**\n",
    "  - A informação sobre a disponibilidade de camas é dinâmica e pode mudar ao longo do tempo.\n",
    "- **Preferências de Género:**\n",
    "  - Certos leitos podem ter restrições de género, e o agente deve levar isso em consideração ao atribuir pacientes.\n",
    "- **Equipamento Especializado:**\n",
    "  - Alguns pacientes podem exigir camas com equipamento especializado, e o agente deve considerar essas necessidades.\n",
    "- **Especialidade Médica:**\n",
    "  - A especialidade influencia a atribuição de pacientes às camas.\n",
    "\n",
    "### Formulação do problema\n",
    "O problema de agendamento de admissões de pacientes é formulado como um problema de busca, onde o agente procura uma solução ótima ou satisfatória entre as possíveis atribuições de camas para os pacientes.\n",
    "\n",
    "### Pseudo-código\n"
   ]
  },
  {
   "cell_type": "markdown",
   "metadata": {},
   "source": [
    "\n",
    "### Heuristica\n",
    "- **Especialidade médica:**\n",
    "  - Objetivo: Atribuir pacientes com uma especialidade médica a uma cama de uma sala da mesma especialidade.\n",
    "  - Heurística:\n",
    "    - Considerar a especialidade médica associada ao paciente.\n",
    "    - Considerar as camas com a mesma especialidade associada.\n",
    "    - Prioritizar as camas que correspondam à especialidade médica do paciente.\n",
    "    - Caso contrário, atribui uma cama disponivel a qualquer paciente.\n",
    "\n",
    "----"
   ]
  },
  {
   "cell_type": "markdown",
   "metadata": {},
   "source": [
    "----\n",
    "## Agente\n",
    "### Solução a correr\n"
   ]
  },
  {
   "cell_type": "code",
   "execution_count": 22,
   "metadata": {},
   "outputs": [
    {
     "ename": "AttributeError",
     "evalue": "'str' object has no attribute 'get'",
     "output_type": "error",
     "traceback": [
      "\u001b[1;31m---------------------------------------------------------------------------\u001b[0m",
      "\u001b[1;31mAttributeError\u001b[0m                            Traceback (most recent call last)",
      "\u001b[1;32mc:\\Users\\diogo\\Desktop\\AI_TP1\\IA_G02\\ipynb\\Untitled-1.ipynb Cell 7\u001b[0m line \u001b[0;36m6\n\u001b[0;32m     <a href='vscode-notebook-cell:/c%3A/Users/diogo/Desktop/AI_TP1/IA_G02/ipynb/Untitled-1.ipynb#X12sZmlsZQ%3D%3D?line=65'>66</a>\u001b[0m \u001b[39m# Atribua pacientes as camas usando o agente\u001b[39;00m\n\u001b[0;32m     <a href='vscode-notebook-cell:/c%3A/Users/diogo/Desktop/AI_TP1/IA_G02/ipynb/Untitled-1.ipynb#X12sZmlsZQ%3D%3D?line=66'>67</a>\u001b[0m \u001b[39mfor\u001b[39;00m paciente \u001b[39min\u001b[39;00m pacientes:\n\u001b[1;32m---> <a href='vscode-notebook-cell:/c%3A/Users/diogo/Desktop/AI_TP1/IA_G02/ipynb/Untitled-1.ipynb#X12sZmlsZQ%3D%3D?line=67'>68</a>\u001b[0m     cama_selecionada \u001b[39m=\u001b[39m selecionar_cama_disponivel(paciente, camas, constraints)\n\u001b[0;32m     <a href='vscode-notebook-cell:/c%3A/Users/diogo/Desktop/AI_TP1/IA_G02/ipynb/Untitled-1.ipynb#X12sZmlsZQ%3D%3D?line=68'>69</a>\u001b[0m     \u001b[39mif\u001b[39;00m cama_selecionada:\n\u001b[0;32m     <a href='vscode-notebook-cell:/c%3A/Users/diogo/Desktop/AI_TP1/IA_G02/ipynb/Untitled-1.ipynb#X12sZmlsZQ%3D%3D?line=69'>70</a>\u001b[0m         atribuir_cama_a_paciente(paciente, cama_selecionada)\n",
      "\u001b[1;32mc:\\Users\\diogo\\Desktop\\AI_TP1\\IA_G02\\ipynb\\Untitled-1.ipynb Cell 7\u001b[0m line \u001b[0;36m2\n\u001b[0;32m     <a href='vscode-notebook-cell:/c%3A/Users/diogo/Desktop/AI_TP1/IA_G02/ipynb/Untitled-1.ipynb#X12sZmlsZQ%3D%3D?line=20'>21</a>\u001b[0m camas_disponiveis \u001b[39m=\u001b[39m []\n\u001b[0;32m     <a href='vscode-notebook-cell:/c%3A/Users/diogo/Desktop/AI_TP1/IA_G02/ipynb/Untitled-1.ipynb#X12sZmlsZQ%3D%3D?line=22'>23</a>\u001b[0m \u001b[39mfor\u001b[39;00m cama \u001b[39min\u001b[39;00m camas:\n\u001b[0;32m     <a href='vscode-notebook-cell:/c%3A/Users/diogo/Desktop/AI_TP1/IA_G02/ipynb/Untitled-1.ipynb#X12sZmlsZQ%3D%3D?line=23'>24</a>\u001b[0m     \u001b[39m# Verifica se a cama atende a todas as restrições\u001b[39;00m\n\u001b[1;32m---> <a href='vscode-notebook-cell:/c%3A/Users/diogo/Desktop/AI_TP1/IA_G02/ipynb/Untitled-1.ipynb#X12sZmlsZQ%3D%3D?line=24'>25</a>\u001b[0m     \u001b[39mif\u001b[39;00m \u001b[39mall\u001b[39;49m(constraint[\u001b[39m'\u001b[39;49m\u001b[39mfunc\u001b[39;49m\u001b[39m'\u001b[39;49m](paciente, cama) \u001b[39mfor\u001b[39;49;00m constraint \u001b[39min\u001b[39;49;00m constraints):\n\u001b[0;32m     <a href='vscode-notebook-cell:/c%3A/Users/diogo/Desktop/AI_TP1/IA_G02/ipynb/Untitled-1.ipynb#X12sZmlsZQ%3D%3D?line=25'>26</a>\u001b[0m         camas_disponiveis\u001b[39m.\u001b[39mappend(cama)\n\u001b[0;32m     <a href='vscode-notebook-cell:/c%3A/Users/diogo/Desktop/AI_TP1/IA_G02/ipynb/Untitled-1.ipynb#X12sZmlsZQ%3D%3D?line=27'>28</a>\u001b[0m \u001b[39m# Heurística: Prioritiza camas em especialidades correspondentes à especialidade atribuida ao paciente\u001b[39;00m\n",
      "\u001b[1;32mc:\\Users\\diogo\\Desktop\\AI_TP1\\IA_G02\\ipynb\\Untitled-1.ipynb Cell 7\u001b[0m line \u001b[0;36m2\n\u001b[0;32m     <a href='vscode-notebook-cell:/c%3A/Users/diogo/Desktop/AI_TP1/IA_G02/ipynb/Untitled-1.ipynb#X12sZmlsZQ%3D%3D?line=20'>21</a>\u001b[0m camas_disponiveis \u001b[39m=\u001b[39m []\n\u001b[0;32m     <a href='vscode-notebook-cell:/c%3A/Users/diogo/Desktop/AI_TP1/IA_G02/ipynb/Untitled-1.ipynb#X12sZmlsZQ%3D%3D?line=22'>23</a>\u001b[0m \u001b[39mfor\u001b[39;00m cama \u001b[39min\u001b[39;00m camas:\n\u001b[0;32m     <a href='vscode-notebook-cell:/c%3A/Users/diogo/Desktop/AI_TP1/IA_G02/ipynb/Untitled-1.ipynb#X12sZmlsZQ%3D%3D?line=23'>24</a>\u001b[0m     \u001b[39m# Verifica se a cama atende a todas as restrições\u001b[39;00m\n\u001b[1;32m---> <a href='vscode-notebook-cell:/c%3A/Users/diogo/Desktop/AI_TP1/IA_G02/ipynb/Untitled-1.ipynb#X12sZmlsZQ%3D%3D?line=24'>25</a>\u001b[0m     \u001b[39mif\u001b[39;00m \u001b[39mall\u001b[39m(constraint[\u001b[39m'\u001b[39;49m\u001b[39mfunc\u001b[39;49m\u001b[39m'\u001b[39;49m](paciente, cama) \u001b[39mfor\u001b[39;00m constraint \u001b[39min\u001b[39;00m constraints):\n\u001b[0;32m     <a href='vscode-notebook-cell:/c%3A/Users/diogo/Desktop/AI_TP1/IA_G02/ipynb/Untitled-1.ipynb#X12sZmlsZQ%3D%3D?line=25'>26</a>\u001b[0m         camas_disponiveis\u001b[39m.\u001b[39mappend(cama)\n\u001b[0;32m     <a href='vscode-notebook-cell:/c%3A/Users/diogo/Desktop/AI_TP1/IA_G02/ipynb/Untitled-1.ipynb#X12sZmlsZQ%3D%3D?line=27'>28</a>\u001b[0m \u001b[39m# Heurística: Prioritiza camas em especialidades correspondentes à especialidade atribuida ao paciente\u001b[39;00m\n",
      "\u001b[1;32mc:\\Users\\diogo\\Desktop\\AI_TP1\\IA_G02\\ipynb\\Untitled-1.ipynb Cell 7\u001b[0m line \u001b[0;36m5\n\u001b[0;32m     <a href='vscode-notebook-cell:/c%3A/Users/diogo/Desktop/AI_TP1/IA_G02/ipynb/Untitled-1.ipynb#X12sZmlsZQ%3D%3D?line=48'>49</a>\u001b[0m especialidade_paciente \u001b[39m=\u001b[39m pacientes\u001b[39m.\u001b[39mget(paciente)\n\u001b[0;32m     <a href='vscode-notebook-cell:/c%3A/Users/diogo/Desktop/AI_TP1/IA_G02/ipynb/Untitled-1.ipynb#X12sZmlsZQ%3D%3D?line=49'>50</a>\u001b[0m equipamentos_necessarios \u001b[39m=\u001b[39m equipamentos_por_especialidade\u001b[39m.\u001b[39mget(especialidade_paciente, [])[\u001b[39m0\u001b[39m]\n\u001b[1;32m---> <a href='vscode-notebook-cell:/c%3A/Users/diogo/Desktop/AI_TP1/IA_G02/ipynb/Untitled-1.ipynb#X12sZmlsZQ%3D%3D?line=50'>51</a>\u001b[0m equipamentos_cama \u001b[39m=\u001b[39m cama\u001b[39m.\u001b[39;49mget(\u001b[39m'\u001b[39m\u001b[39mequipamentos\u001b[39m\u001b[39m'\u001b[39m, [])\n\u001b[0;32m     <a href='vscode-notebook-cell:/c%3A/Users/diogo/Desktop/AI_TP1/IA_G02/ipynb/Untitled-1.ipynb#X12sZmlsZQ%3D%3D?line=52'>53</a>\u001b[0m \u001b[39m# Verifica se a cama possui o equipamento necessário\u001b[39;00m\n\u001b[0;32m     <a href='vscode-notebook-cell:/c%3A/Users/diogo/Desktop/AI_TP1/IA_G02/ipynb/Untitled-1.ipynb#X12sZmlsZQ%3D%3D?line=53'>54</a>\u001b[0m \u001b[39mif\u001b[39;00m \u001b[39mall\u001b[39m(equipamento \u001b[39min\u001b[39;00m equipamentos_cama \u001b[39mfor\u001b[39;00m equipamento \u001b[39min\u001b[39;00m equipamentos_necessarios):\n",
      "\u001b[1;31mAttributeError\u001b[0m: 'str' object has no attribute 'get'"
     ]
    }
   ],
   "source": [
    "pacientes = {\n",
    "    'paciente1': 'cardiologia',\n",
    "    'paciente2': 'dermatologia',\n",
    "    'paciente3': 'cardiologia'\n",
    "}\n",
    "\n",
    "camas = {\n",
    "    'cama1': {'especialidade': 'cardiologia', 'equipamentos': ['maquina de ECG'], 'disponivel': True},\n",
    "    'cama2': {'especialidade': 'dermatologia', 'equipamentos': ['dermatoscópio'], 'disponivel': True},\n",
    "    'cama3': {'especialidade': 'cardiologia', 'equipamentos': ['maquina de ECG'], 'disponivel': True},\n",
    "    'cama4': {'especialidade': 'dermatologia', 'equipamentos': ['dermatoscópio'], 'disponivel': True}\n",
    "}\n",
    "especialidades = ['cardiologia', 'dermatologia']\n",
    "\n",
    "equipamentos_por_especialidade = {\n",
    "    'cardiologia': ['maquina de ECG'],\n",
    "    'dermatologia': ['dermatoscópio',]\n",
    "}\n",
    "\n",
    "def selecionar_cama_disponivel(paciente, camas, constraints):\n",
    "    camas_disponiveis = []\n",
    "\n",
    "    for cama in camas:\n",
    "        # Verifica se a cama atende a todas as restrições\n",
    "        if all(constraint['func'](paciente, cama) for constraint in constraints):\n",
    "            camas_disponiveis.append(cama)\n",
    "\n",
    "    # Heurística: Prioritiza camas em especialidades correspondentes à especialidade atribuida ao paciente\n",
    "    especialidade_paciente = pacientes.get(paciente)\n",
    "    \n",
    "    # Filtra as camas que pertencem à especialidade correspondente à especialidade do paciente\n",
    "    camas_especialidade = [cama for cama in camas_disponiveis if cama_pertence_a_especialidade(cama, especialidade_paciente)]\n",
    "    \n",
    "    if camas_especialidade:\n",
    "        return camas_especialidade[0]  # 1a cama da especialidade\n",
    "    elif camas_disponiveis:\n",
    "        return camas_disponiveis[0]  # Retorna a 1a cama disponivel\n",
    "    else:\n",
    "        return None\n",
    "\n",
    "def atribuir_cama_a_paciente(paciente, cama):\n",
    "    print(f\"{cama} atribuida a paciente {paciente}\")\n",
    "\n",
    "def cama_pertence_a_especialidade(cama, especialidade):\n",
    "  especialidade_cama = cama.get('especialidade')\n",
    "  return especialidade_cama == especialidade\n",
    "\n",
    "def equipamento_constraint(paciente, cama):\n",
    "    especialidade_paciente = pacientes.get(paciente)\n",
    "    equipamentos_necessarios = equipamentos_por_especialidade.get(especialidade_paciente, [])\n",
    "    equipamentos_cama = cama.get('equipamentos', [])\n",
    "\n",
    "    # Verifica se a cama possui o equipamento necessário\n",
    "    if all(equipamento in equipamentos_cama for equipamento in equipamentos_necessarios):\n",
    "        return True\n",
    "    else:\n",
    "        print(f\"Conflito: {cama} da especialidade {especialidade_paciente} não possui o equipamento necessário ({', '.join(equipamentos_necessarios)}) para o paciente {paciente}.\")\n",
    "        return False\n",
    "\n",
    "\n",
    "constraints = [\n",
    "    {'func': equipamento_constraint, 'variables': ['paciente', 'cama']},\n",
    "]\n",
    "\n",
    "\n",
    "# Atribua pacientes as camas usando o agente\n",
    "for paciente in pacientes:\n",
    "    cama_selecionada = selecionar_cama_disponivel(paciente, camas, constraints)\n",
    "    if cama_selecionada:\n",
    "        atribuir_cama_a_paciente(paciente, cama_selecionada)\n",
    "    else:\n",
    "        print(f\"Nao existem camas para o paciente {paciente}\")\n"
   ]
  },
  {
   "cell_type": "markdown",
   "metadata": {},
   "source": [
    "\n",
    "### Analise aos resultados \n",
    "### Futuros improves\n",
    "----"
   ]
  },
  {
   "cell_type": "markdown",
   "metadata": {},
   "source": [
    "----\n",
    "## Conclusão\n",
    "----"
   ]
  }
 ],
 "metadata": {
  "kernelspec": {
   "display_name": "Python 3",
   "language": "python",
   "name": "python3"
  },
  "language_info": {
   "codemirror_mode": {
    "name": "ipython",
    "version": 3
   },
   "file_extension": ".py",
   "mimetype": "text/x-python",
   "name": "python",
   "nbconvert_exporter": "python",
   "pygments_lexer": "ipython3",
   "version": "3.11.3"
  }
 },
 "nbformat": 4,
 "nbformat_minor": 2
}
