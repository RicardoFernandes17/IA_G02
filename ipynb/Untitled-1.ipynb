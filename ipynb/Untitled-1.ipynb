{
 "cells": [
  {
   "cell_type": "markdown",
   "metadata": {},
   "source": [
    "# TP01 Grupo02 - Inteligencia Artificial\n",
    "Este documento "
   ]
  },
  {
   "cell_type": "markdown",
   "metadata": {},
   "source": [
    "----\n",
    "## Introdução\n",
    "\n",
    "### Contexto e propósito do problema\n",
    "### Membros do grupo\n",
    "O grupo do trabalho foi constituido pelos seguintes:\n",
    "* Diogo Miranda - nº 10607\n",
    "* Pedro Meneses - nº 17551\n",
    "* Ricardo Fernandes - nº 18476\n",
    "\n",
    "----"
   ]
  },
  {
   "cell_type": "markdown",
   "metadata": {},
   "source": [
    "----\n",
    "## Goal Formulation\n",
    "### Definição de objetivos\n",
    "### Possiveis limitações\n",
    "### Ações a serem tomadas\n",
    "----"
   ]
  },
  {
   "cell_type": "markdown",
   "metadata": {},
   "source": [
    "----\n",
    "## Planeamento e design do agente apropriado\n",
    "### Descrição PEAS do agente\n",
    "### Caracteristicas do ambiente\n",
    "### Formulação do problema\n",
    "### Pseudo-código\n",
    "### Heuristica\n",
    "----"
   ]
  },
  {
   "cell_type": "markdown",
   "metadata": {},
   "source": [
    "----\n",
    "## Agente\n",
    "### Solução a correr\n",
    "### Analise aos resultados \n",
    "### Futuros improves\n",
    "----"
   ]
  },
  {
   "cell_type": "markdown",
   "metadata": {},
   "source": [
    "----\n",
    "## Conclusão\n",
    "----"
   ]
  }
 ],
 "metadata": {
  "language_info": {
   "name": "python"
  }
 },
 "nbformat": 4,
 "nbformat_minor": 2
}
