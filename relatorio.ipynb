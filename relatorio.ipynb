{
 "cells": [
  {
   "cell_type": "markdown",
   "metadata": {},
   "source": [
    "# 1 - Contextualização:\n",
    "\n",
    "### Problema\n",
    "- Assign each patient (that will come to the hospital) into a bed for each night that the patient will stay in the hospital. \n",
    "- Each bed belongs to a room and each room belongs to a department, e.g., cardiology.\n",
    "- The arrival and departure dates of the patients is fixed: only a bed needs to be assigned for each night.\n",
    "\n",
    "### Constraints do Problema:\n",
    "- 2 patients must not be assigned to the same bed in the same night\n",
    "- Room gender limitation: only females, only males, the same gender in the same night, or no gender limitation\n",
    "- A patient can require a room with specific equipment(s)\n"
   ]
  },
  {
   "cell_type": "markdown",
   "metadata": {},
   "source": [
    "# 2 - Estruturas de Dados"
   ]
  },
  {
   "cell_type": "code",
   "execution_count": null,
   "metadata": {},
   "outputs": [],
   "source": [
    "class Paciente:\n",
    "    def __init__(self, nome, idade, genero, data_entrada, data_saida):\n",
    "        self.nome = nome\n",
    "        self.idade = idade\n",
    "        self.genero = genero\n",
    "        self.data_entrada = data_entrada\n",
    "        self.data_saida = data_saida\n",
    "\n",
    "class Departamento:\n",
    "    def __init__(self, id_departamento, nome_departamento):\n",
    "        self.id_departamento = id_departamento\n",
    "        self.nome_departamento = nome_departamento\n",
    "\n",
    "class Quarto:\n",
    "    def __init__(self, id_quarto, nome_quarto, capacidade, departamento):\n",
    "        self.id_quarto = id_quarto\n",
    "        self.nome_quarto = nome_quarto\n",
    "        self.capacidade = capacidade\n",
    "        self.departamento = departamento\n",
    "\n",
    "class Cama:\n",
    "    def __init__(self, id_cama, nome_cama, id_quarto):\n",
    "        self.id_cama = id_cama\n",
    "        self.dados_cama = nome_cama\n",
    "        self.id_quarto = id_quarto"
   ]
  },
  {
   "cell_type": "markdown",
   "metadata": {},
   "source": [
    "# 3 - Domínio"
   ]
  },
  {
   "cell_type": "code",
   "execution_count": null,
   "metadata": {},
   "outputs": [],
   "source": [
    "from constraint import Problem, FunctionConstraint, BacktrackingSolver\n",
    "\n",
    "# Lista de pacientes\n",
    "pacientes = [\n",
    "    Paciente(1, \"Paciente 1\", 98, \"M\", 1, 2),\n",
    "    Paciente(2, \"Paciente 2\", 82, \"M\", 1, 2),\n",
    "    Paciente(3, \"Paciente 3\", 43, \"F\", 1, 2),\n",
    "    Paciente(4, \"Paciente 4\", 88, \"M\", 1, 2),\n",
    "    Paciente(5, \"Paciente 5\", 20, \"F\", 1, 2),\n",
    "    Paciente(6, \"Paciente 6\", 65, \"F\", 1, 2),\n",
    "    Paciente(7, \"Paciente 7\", 88, \"M\", 1, 2),\n",
    "    Paciente(8, \"Paciente 8\", 88, \"M\", 1, 2),\n",
    "    Paciente(9, \"Paciente 9\", 86, \"M\", 3, 4),\n",
    "    Paciente(10,\"Paciente 10\", 22, \"F\", 3, 6),\n",
    "    Paciente(11,\"Paciente 11\", 70, \"F\", 4, 6),\n",
    "    Paciente(12,\"Paciente 12\", 70, \"F\", 4, 6),\n",
    "]\n",
    "\n",
    "departamentos = [\n",
    "    Departamento(1, \"Cardiologia\"),\n",
    "    Departamento(2, \"Neurologia\"),\n",
    "]\n",
    "\n",
    "rooms = [\n",
    "    Quarto(1,'R1', 4, 1, \"F\"),\n",
    "    Quarto(2,'R2', 4, 2, \"M\"),\n",
    "    Quarto(3,'R3', 4, 1, \"F\"),\n",
    "    Quarto(4,'R4', 4, 2, \"M\"),\n",
    "]\n",
    "\n",
    "# Camas disponíveis no hospital com base nos quartos\n",
    "camas = []\n",
    "for room in rooms:\n",
    "    for i in range(1, room.capacidade + 1):\n",
    "        camas.append(Cama(i, \"Cama {i}\" , room.id_quarto))\n",
    "\n",
    "\n",
    "# Problema instancia\n",
    "problem = Problem()\n",
    "\n",
    "# Criar o domínio\n",
    "for idx, paciente in enumerate(pacientes):\n",
    "    problem.addVariable(f'P{idx + 1}.genero', [paciente.genero])\n",
    "    problem.addVariable(f'P{idx + 1}.entrada', [paciente.data_entrada])\n",
    "    problem.addVariable(f'P{idx + 1}.saida', [paciente.data_saida])\n",
    "    problem.addVariable(f'P{idx + 1}.cama', camas)\n",
    "    problem.addVariable(f'P{idx + 1}.quarto', rooms)"
   ]
  },
  {
   "cell_type": "markdown",
   "metadata": {},
   "source": [
    "# 4 - Constraints"
   ]
  },
  {
   "cell_type": "code",
   "execution_count": null,
   "metadata": {},
   "outputs": [],
   "source": [
    "def add_night_assignment_constraints(problem, patients):\n",
    "    for idx1, paciente1 in enumerate(patients):\n",
    "        for idx2, paciente2 in enumerate(patients):\n",
    "            if idx1 != idx2:\n",
    "                cama1, cama2 = f'P{idx1 + 1}.cama', f'P{idx2 + 1}.cama'\n",
    "                entrada1, entrada2 = f'P{idx1 + 1}.entrada', f'P{idx2 + 1}.entrada'\n",
    "                saida1, saida2 = f'P{idx1 + 1}.saida', f'P{idx2 + 1}.saida'\n",
    "                quarto1, quarto2 = f'P{idx1 + 1}.quarto', f'P{idx2 + 1}.quarto'\n",
    "                genero1,genero2 = f'P{idx1 + 1}.genero', f'P{idx2 + 1}.genero'\n",
    "\n",
    "                # Constraint 1: Pacientes de gêneros diferentes não partilhem o mesmo quarto.\n",
    "                if paciente1.genero != paciente2.genero:\n",
    "                    print(f'Paciente {paciente1.nome} e {paciente2.nome} não podem partilhar o mesmo quarto')\n",
    "                    problem.addConstraint(\n",
    "                    FunctionConstraint(\n",
    "                        lambda room1, room2, g1, g2: (\n",
    "                            room1 != room2\n",
    "                            or (\n",
    "                                room1 == room2\n",
    "                                and (g1 == g2 or room1.genero_quarto != room2.genero_quarto)\n",
    "                            )\n",
    "                        )\n",
    "                    ),\n",
    "                    (quarto1, quarto2, genero1, genero2)\n",
    "                )\n",
    "\n",
    "                # Constraint 2: Pacientes não podem partilhar a mesma cama no mesmo dia.\n",
    "                problem.addConstraint(\n",
    "                    FunctionConstraint(\n",
    "                        lambda c1, c2, e1, e2, s1, s2: e1 > s2 or s1 < e2 if c1 == c2 else True\n",
    "                    ),\n",
    "                    (cama1, cama2, entrada1, entrada2, saida1, saida2)\n",
    "                )\n"
   ]
  },
  {
   "cell_type": "markdown",
   "metadata": {},
   "source": [
    "### Por Género\n",
    "- Validamos se o paciente 1 e paciente 2 são de genero diferentes, se forem teremos que alocar um quarto diferente."
   ]
  }
 ],
 "metadata": {
  "kernelspec": {
   "display_name": "Python 3",
   "language": "python",
   "name": "python3"
  },
  "language_info": {
   "codemirror_mode": {
    "name": "ipython",
    "version": 3
   },
   "file_extension": ".py",
   "mimetype": "text/x-python",
   "name": "python",
   "nbconvert_exporter": "python",
   "pygments_lexer": "ipython3",
   "version": "3.11.4"
  }
 },
 "nbformat": 4,
 "nbformat_minor": 2
}
